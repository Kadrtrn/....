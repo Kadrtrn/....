{
 "cells": [
  {
   "cell_type": "code",
   "execution_count": 1,
   "id": "7ef20d3d",
   "metadata": {},
   "outputs": [],
   "source": [
    "import pandas as pd \n",
    "import numpy as np"
   ]
  },
  {
   "cell_type": "code",
   "execution_count": 2,
   "id": "ed3cbb0b",
   "metadata": {},
   "outputs": [],
   "source": [
    "df=pd.read_csv('country_vaccination_stats.csv')"
   ]
  },
  {
   "cell_type": "markdown",
   "id": "92e641e6",
   "metadata": {},
   "source": [
    "# Question 4-5"
   ]
  },
  {
   "cell_type": "code",
   "execution_count": 3,
   "id": "0a020b1e",
   "metadata": {},
   "outputs": [],
   "source": [
    "country_min = df.groupby('country')['daily_vaccinations'].min().reset_index()\n",
    "df = df.merge(country_min, on='country', suffixes=('', '_min'))\n",
    "df['daily_vaccinations'].fillna(df['daily_vaccinations_min'], inplace=True)\n",
    "df['daily_vaccinations'].fillna(0, inplace=True)\n",
    "df.drop('daily_vaccinations_min', axis=1, inplace=True)\n"
   ]
  },
  {
   "cell_type": "code",
   "execution_count": 4,
   "id": "9aca2ebe",
   "metadata": {},
   "outputs": [
    {
     "name": "stdout",
     "output_type": "stream",
     "text": [
      "<class 'pandas.core.frame.DataFrame'>\n",
      "Int64Index: 1502 entries, 0 to 1501\n",
      "Data columns (total 4 columns):\n",
      " #   Column              Non-Null Count  Dtype  \n",
      "---  ------              --------------  -----  \n",
      " 0   country             1502 non-null   object \n",
      " 1   date                1502 non-null   object \n",
      " 2   daily_vaccinations  1502 non-null   float64\n",
      " 3   vaccines            1502 non-null   object \n",
      "dtypes: float64(1), object(3)\n",
      "memory usage: 58.7+ KB\n"
     ]
    }
   ],
   "source": [
    "df.info()"
   ]
  },
  {
   "cell_type": "code",
   "execution_count": 5,
   "id": "cebaaf18",
   "metadata": {},
   "outputs": [
    {
     "data": {
      "text/html": [
       "<div>\n",
       "<style scoped>\n",
       "    .dataframe tbody tr th:only-of-type {\n",
       "        vertical-align: middle;\n",
       "    }\n",
       "\n",
       "    .dataframe tbody tr th {\n",
       "        vertical-align: top;\n",
       "    }\n",
       "\n",
       "    .dataframe thead th {\n",
       "        text-align: right;\n",
       "    }\n",
       "</style>\n",
       "<table border=\"1\" class=\"dataframe\">\n",
       "  <thead>\n",
       "    <tr style=\"text-align: right;\">\n",
       "      <th></th>\n",
       "      <th>country</th>\n",
       "      <th>date</th>\n",
       "      <th>daily_vaccinations</th>\n",
       "      <th>vaccines</th>\n",
       "    </tr>\n",
       "  </thead>\n",
       "  <tbody>\n",
       "    <tr>\n",
       "      <th>0</th>\n",
       "      <td>Argentina</td>\n",
       "      <td>12/29/2020</td>\n",
       "      <td>6483.0</td>\n",
       "      <td>Sputnik V</td>\n",
       "    </tr>\n",
       "    <tr>\n",
       "      <th>1</th>\n",
       "      <td>Argentina</td>\n",
       "      <td>12/30/2020</td>\n",
       "      <td>15656.0</td>\n",
       "      <td>Sputnik V</td>\n",
       "    </tr>\n",
       "    <tr>\n",
       "      <th>2</th>\n",
       "      <td>Argentina</td>\n",
       "      <td>12/31/2020</td>\n",
       "      <td>15656.0</td>\n",
       "      <td>Sputnik V</td>\n",
       "    </tr>\n",
       "    <tr>\n",
       "      <th>3</th>\n",
       "      <td>Argentina</td>\n",
       "      <td>1/1/2021</td>\n",
       "      <td>11070.0</td>\n",
       "      <td>Sputnik V</td>\n",
       "    </tr>\n",
       "    <tr>\n",
       "      <th>4</th>\n",
       "      <td>Argentina</td>\n",
       "      <td>1/2/2021</td>\n",
       "      <td>8776.0</td>\n",
       "      <td>Sputnik V</td>\n",
       "    </tr>\n",
       "  </tbody>\n",
       "</table>\n",
       "</div>"
      ],
      "text/plain": [
       "     country        date  daily_vaccinations   vaccines\n",
       "0  Argentina  12/29/2020              6483.0  Sputnik V\n",
       "1  Argentina  12/30/2020             15656.0  Sputnik V\n",
       "2  Argentina  12/31/2020             15656.0  Sputnik V\n",
       "3  Argentina    1/1/2021             11070.0  Sputnik V\n",
       "4  Argentina    1/2/2021              8776.0  Sputnik V"
      ]
     },
     "execution_count": 5,
     "metadata": {},
     "output_type": "execute_result"
    }
   ],
   "source": [
    "df.head()"
   ]
  },
  {
   "cell_type": "code",
   "execution_count": 6,
   "id": "08a9e72d",
   "metadata": {},
   "outputs": [
    {
     "name": "stdout",
     "output_type": "stream",
     "text": [
      "<class 'pandas.core.frame.DataFrame'>\n",
      "Int64Index: 1502 entries, 0 to 1501\n",
      "Data columns (total 4 columns):\n",
      " #   Column              Non-Null Count  Dtype  \n",
      "---  ------              --------------  -----  \n",
      " 0   country             1502 non-null   object \n",
      " 1   date                1502 non-null   object \n",
      " 2   daily_vaccinations  1502 non-null   float64\n",
      " 3   vaccines            1502 non-null   object \n",
      "dtypes: float64(1), object(3)\n",
      "memory usage: 58.7+ KB\n"
     ]
    }
   ],
   "source": [
    "df.info()"
   ]
  },
  {
   "cell_type": "markdown",
   "id": "4b12afd1",
   "metadata": {},
   "source": [
    "# Question 6"
   ]
  },
  {
   "cell_type": "code",
   "execution_count": 7,
   "id": "2da5dcfa",
   "metadata": {},
   "outputs": [
    {
     "data": {
      "text/plain": [
       "country\n",
       "Argentina                11645.0\n",
       "Austria                   7850.0\n",
       "Bahrain                   3662.0\n",
       "Belgium                   3606.0\n",
       "Brazil                   17220.0\n",
       "Bulgaria                  1010.0\n",
       "Canada                   11044.0\n",
       "Chile                     1291.0\n",
       "China                   276786.0\n",
       "Costa Rica                 675.5\n",
       "Croatia                   2485.0\n",
       "Cyprus                     708.0\n",
       "Czechia                   5378.0\n",
       "Denmark                   7095.5\n",
       "Ecuador                    108.0\n",
       "England                 107310.5\n",
       "Estonia                   1043.0\n",
       "Finland                   2035.5\n",
       "France                   41496.0\n",
       "Germany                  51184.0\n",
       "Gibraltar                  713.0\n",
       "Greece                    5290.0\n",
       "Hungary                   5464.5\n",
       "Iceland                     63.0\n",
       "India                   173922.0\n",
       "Indonesia                13200.0\n",
       "Ireland                   6528.0\n",
       "Isle of Man                138.0\n",
       "Israel                   92587.0\n",
       "Italy                    44475.5\n",
       "Kuwait                       0.0\n",
       "Latvia                     592.0\n",
       "Lithuania                 1933.5\n",
       "Luxembourg                  88.0\n",
       "Malta                      407.5\n",
       "Mexico                    5488.0\n",
       "Netherlands               6762.0\n",
       "Northern Ireland          2135.0\n",
       "Norway                    2958.0\n",
       "Oman                      1192.0\n",
       "Panama                    1324.0\n",
       "Poland                   22702.5\n",
       "Portugal                  5944.0\n",
       "Romania                  13030.0\n",
       "Russia                   23563.0\n",
       "Saudi Arabia             16807.5\n",
       "Scotland                  5821.0\n",
       "Serbia                    2920.0\n",
       "Seychelles                1000.0\n",
       "Singapore                 4907.0\n",
       "Slovakia                  5357.0\n",
       "Slovenia                  2374.0\n",
       "Spain                    55238.0\n",
       "Sweden                    5382.5\n",
       "Switzerland               3000.0\n",
       "Turkey                  150356.0\n",
       "United Arab Emirates     86430.0\n",
       "United Kingdom          120409.0\n",
       "United States           378253.0\n",
       "Wales                     2198.0\n",
       "Name: daily_vaccinations, dtype: float64"
      ]
     },
     "execution_count": 7,
     "metadata": {},
     "output_type": "execute_result"
    }
   ],
   "source": [
    "country_medians =df.groupby('country')['daily_vaccinations'].median()\n",
    "country_medians"
   ]
  },
  {
   "cell_type": "code",
   "execution_count": 8,
   "id": "e311cf16",
   "metadata": {},
   "outputs": [
    {
     "name": "stdout",
     "output_type": "stream",
     "text": [
      "Top-3 countries with highest median daily vaccination numbers:\n",
      "country\n",
      "United States    378253.0\n",
      "China            276786.0\n",
      "India            173922.0\n",
      "Name: daily_vaccinations, dtype: float64\n"
     ]
    }
   ],
   "source": [
    "top_3_countries = country_medians.nlargest(3)\n",
    "\n",
    "print(f\"Top-3 countries with highest median daily vaccination numbers:\\n{top_3_countries}\")"
   ]
  },
  {
   "cell_type": "markdown",
   "id": "0bf4c002",
   "metadata": {},
   "source": [
    "# Question 7"
   ]
  },
  {
   "cell_type": "code",
   "execution_count": 9,
   "id": "ff4c2d05",
   "metadata": {},
   "outputs": [],
   "source": [
    "df=df[df['date']=='1/6/2021']"
   ]
  },
  {
   "cell_type": "code",
   "execution_count": 10,
   "id": "df5462c6",
   "metadata": {},
   "outputs": [
    {
     "data": {
      "text/plain": [
       "1485255.0"
      ]
     },
     "execution_count": 10,
     "metadata": {},
     "output_type": "execute_result"
    }
   ],
   "source": [
    "df['daily_vaccinations'].sum()"
   ]
  },
  {
   "cell_type": "code",
   "execution_count": null,
   "id": "4e1b1d5e",
   "metadata": {},
   "outputs": [],
   "source": []
  }
 ],
 "metadata": {
  "kernelspec": {
   "display_name": "Python 3 (ipykernel)",
   "language": "python",
   "name": "python3"
  },
  "language_info": {
   "codemirror_mode": {
    "name": "ipython",
    "version": 3
   },
   "file_extension": ".py",
   "mimetype": "text/x-python",
   "name": "python",
   "nbconvert_exporter": "python",
   "pygments_lexer": "ipython3",
   "version": "3.10.8"
  }
 },
 "nbformat": 4,
 "nbformat_minor": 5
}
